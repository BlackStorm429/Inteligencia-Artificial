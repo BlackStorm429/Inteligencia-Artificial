{
  "cells": [
    {
      "cell_type": "code",
      "execution_count": 2,
      "metadata": {
        "colab": {
          "base_uri": "https://localhost:8080/"
        },
        "id": "2bZM-_AsBVca",
        "outputId": "22733a89-43fb-4ece-cc20-f21516a6c881"
      },
      "outputs": [
        {
          "name": "stdout",
          "output_type": "stream",
          "text": [
            "\n",
            "Número de ItemSets 1: 2\n",
            "Número de ItemSets 2: 1\n",
            "Número de ItemSets 3: 0\n",
            "Número total de regras: 3\n",
            "+----------------+---------+\n",
            "|    ItemSet     | Suporte |\n",
            "+----------------+---------+\n",
            "|    ['Não']     |   1.0   |\n",
            "|    ['Sim']     |   1.0   |\n",
            "| ['Não', 'Sim'] |   1.0   |\n",
            "+----------------+---------+\n"
          ]
        }
      ],
      "source": [
        "import pandas as pd\n",
        "from apyori import apriori\n",
        "from tabulate import tabulate\n",
        "\n",
        "# Carregar o arquivo CSV\n",
        "base = pd.read_csv('mercado.csv', sep=',', encoding='utf-8')\n",
        "\n",
        "# Pré-processar os dados para extrair transações\n",
        "transacoes = []\n",
        "for i in range(len(base)):\n",
        "    transacao = [item.strip() for item in base.iloc[i, 1:].values if pd.notnull(item)]\n",
        "    if transacao:\n",
        "        transacoes.append(transacao)\n",
        "\n",
        "# Aplicar o algoritmo Apriori com os limiares especificados\n",
        "regras = apriori(transacoes, min_support=0.3, min_confidence=0.8)\n",
        "\n",
        "# Inicializar contadores para ItemSets e regras\n",
        "num_itemsets_1 = 0\n",
        "num_itemsets_2 = 0\n",
        "num_itemsets_3 = 0\n",
        "num_regras = 0\n",
        "\n",
        "# Preparar os dados para tabulação\n",
        "dados_tabela = []\n",
        "\n",
        "# Armazenar os ItemSets gerados com seus respectivos valores de suporte\n",
        "for regra in regras:\n",
        "    itens = list(regra.items)\n",
        "    suporte = regra.support\n",
        "    if len(itens) == 1:\n",
        "        num_itemsets_1 += 1\n",
        "    elif len(itens) == 2:\n",
        "        num_itemsets_2 += 1\n",
        "    elif len(itens) == 3:\n",
        "        num_itemsets_3 += 1\n",
        "    num_regras += 1\n",
        "    dados_tabela.append([itens, suporte])\n",
        "\n",
        "# Imprimir o número total de ItemSets e regras\n",
        "print(\"\\nNúmero de ItemSets 1:\", num_itemsets_1)\n",
        "print(\"Número de ItemSets 2:\", num_itemsets_2)\n",
        "print(\"Número de ItemSets 3:\", num_itemsets_3)\n",
        "print(\"Número total de regras:\", num_regras)\n",
        "\n",
        "# Exibir a tabela\n",
        "print(tabulate(dados_tabela, headers=['ItemSet', 'Suporte'], tablefmt='pretty'))\n"
      ]
    }
  ],
  "metadata": {
    "colab": {
      "provenance": []
    },
    "kernelspec": {
      "display_name": "Python 3",
      "name": "python3"
    },
    "language_info": {
      "codemirror_mode": {
        "name": "ipython",
        "version": 3
      },
      "file_extension": ".py",
      "mimetype": "text/x-python",
      "name": "python",
      "nbconvert_exporter": "python",
      "pygments_lexer": "ipython3",
      "version": "3.11.9"
    }
  },
  "nbformat": 4,
  "nbformat_minor": 0
}
