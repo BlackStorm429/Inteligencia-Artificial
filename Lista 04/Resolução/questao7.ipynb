{
 "cells": [
  {
   "cell_type": "code",
   "execution_count": 1,
   "metadata": {},
   "outputs": [
    {
     "name": "stdout",
     "output_type": "stream",
     "text": [
      "Quem não leva Arroz leva Café\n",
      "Quem não leva Arroz leva Cerveja\n",
      "Quem não leva Feijão leva Arroz\n",
      "Quem não leva Arroz leva Leite\n",
      "Quem não leva Arroz leva Manteiga\n",
      "Quem não leva Arroz leva Pão\n",
      "Quem não leva Cerveja leva Café\n",
      "Quem não leva Feijão leva Café\n",
      "Quem não leva Leite leva Café\n",
      "Quem não leva Café leva Manteiga\n",
      "Quem não leva Pão leva Café\n",
      "Quem não leva Feijão leva Cerveja\n",
      "Quem não leva Leite leva Cerveja\n",
      "Quem não leva Cerveja leva Manteiga\n",
      "Quem não leva Cerveja leva Pão\n",
      "Quem não leva Feijão leva Leite\n",
      "Quem não leva Feijão leva Manteiga\n",
      "Quem não leva Feijão leva Pão\n",
      "Quem não leva Leite leva Manteiga\n",
      "Quem não leva Leite leva Pão\n",
      "Quem não leva Pão leva Manteiga\n"
     ]
    }
   ],
   "source": [
    "import pandas as pd\n",
    "from itertools import combinations\n",
    "from apyori import apriori\n",
    "\n",
    "# Carregar o arquivo CSV\n",
    "base = pd.read_csv('mercado.csv', sep=',', encoding='utf-8')\n",
    "\n",
    "# Pré-processar os dados para extrair transações\n",
    "transacoes = []\n",
    "for i in range(len(base)):\n",
    "    transacao = [item.strip() for item in base.iloc[i, 1:].values if pd.notnull(item)]\n",
    "    transacoes.append(transacao)\n",
    "\n",
    "# Gerar uma lista de todos os produtos possíveis\n",
    "todos_os_produtos = set(base.columns[1:])\n",
    "\n",
    "# Gerar todas as combinações possíveis de produtos onde um produto está ausente\n",
    "transacoes_sem_produto = []\n",
    "for transacao in transacoes:\n",
    "    for r in range(1, len(transacao) + 1):\n",
    "        for combinacao in combinations(transacao, r):\n",
    "            transacoes_sem_produto.append(todos_os_produtos - set(combinacao))\n",
    "\n",
    "# Combinar as transações originais com as transações onde um produto não está presente\n",
    "todas_as_transacoes = transacoes + transacoes_sem_produto\n",
    "\n",
    "# Aplicar o algoritmo Apriori com os limiares especificados\n",
    "regras = apriori(todas_as_transacoes, min_support=0.3, min_confidence=0.8)\n",
    "\n",
    "# Imprimir as regras de associação geradas, excluindo as regras em que o antecedente e o consequente são iguais\n",
    "for regra in regras:\n",
    "    itens = [item for item in regra.items]\n",
    "    if len(itens) == 2 and itens[0] != itens[1]:\n",
    "        print(f\"Quem não leva {itens[0]} leva {itens[1]}\")\n"
   ]
  }
 ],
 "metadata": {
  "kernelspec": {
   "display_name": "Python 3",
   "language": "python",
   "name": "python3"
  },
  "language_info": {
   "codemirror_mode": {
    "name": "ipython",
    "version": 3
   },
   "file_extension": ".py",
   "mimetype": "text/x-python",
   "name": "python",
   "nbconvert_exporter": "python",
   "pygments_lexer": "ipython3",
   "version": "3.11.9"
  }
 },
 "nbformat": 4,
 "nbformat_minor": 2
}
